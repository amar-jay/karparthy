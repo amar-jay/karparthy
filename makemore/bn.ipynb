{
 "cells": [
  {
   "cell_type": "markdown",
   "metadata": {},
   "source": [
    "# [Paper]()\n",
    "\n",
    "- [ ] Activation functions\n",
    "- [x] Batch Normalization. \n",
    "- [ ] Residual connections \n",
    "- [ ] the Adam optimizer\n",
    "- [ ] Backpropagation\n"
   ]
  },
  {
   "cell_type": "code",
   "execution_count": 1,
   "id": "456de87c",
   "metadata": {},
   "outputs": [
    {
     "data": {
      "text/plain": [
       "'2.1.1+cu121'"
      ]
     },
     "execution_count": 1,
     "metadata": {},
     "output_type": "execute_result"
    }
   ],
   "source": [
    "import torch\n",
    "import torch.nn.functional as F\n",
    "import matplotlib.pyplot as plt\n",
    "\n",
    "%matplotlib inline\n",
    "g = torch.Generator().manual_seed(2147483647) # for reproducibility\n",
    "\n",
    "torch.__version__"
   ]
  },
  {
   "cell_type": "code",
   "execution_count": 2,
   "id": "af830e58",
   "metadata": {},
   "outputs": [
    {
     "name": "stdout",
     "output_type": "stream",
     "text": [
      "names:  ['alayja', 'aviyana', 'kol', 'jamira', 'hazaiah']\n",
      "number of names:  32033\n",
      "(list of chars, count):  ('.abcdefghijklmnopqrstuvwxyz', 27)\n",
      "(max word length, min word length):  (15, 2)\n"
     ]
    }
   ],
   "source": [
    "import random\n",
    "with open(\"names.txt\", \"r+\") as f:\n",
    "\twords = f.read().splitlines()\n",
    "\twords = [word.strip() for word in words] # get rid of any trailing spaces\n",
    "\twords = [w for w in words if w] # get rid of any empty strings\n",
    "\tnames = sorted(words, key=lambda x: random.random())\n",
    "\n",
    "min_chars = min(len(v) for v in names)\n",
    "max_chars = max(len(v) for v in names)\n",
    "chars = sorted(list(set(\"\".join(names))))\n",
    "\n",
    "# in replacement of the start and end token. Every name should end with a period. and there should be no start token to begin a sequence\n",
    "chars = ['.'] + chars\n",
    "chars_count = len(chars)\n",
    "print(\"names: \", names[:5])\n",
    "print(\"number of names: \", len(names))\n",
    "print(\"(list of chars, count): \", (\"\".join(chars), chars_count))\n",
    "print(\"(max word length, min word length): \", (max_chars, min_chars))\n",
    "\n",
    "atoi = {ch:i for i,ch in enumerate(chars)}\n",
    "itoa = {i:ch for i,ch in enumerate(chars)}\n",
    "\n",
    "# adding end token to each name\n",
    "names = [list(name) + ['.'] for name in names]"
   ]
  },
  {
   "cell_type": "code",
   "execution_count": 3,
   "id": "52f6a77c",
   "metadata": {},
   "outputs": [],
   "source": [
    "# hyper-params\n",
    "n_embd = 10\n",
    "block_size  = 3 # context length\n",
    "n_embd2 = 200 # intermediate weight size\n",
    "lr = 0.1 # determined based on graph\n",
    "decay_rate = 0.01\n",
    "batch_size = 64"
   ]
  },
  {
   "cell_type": "code",
   "execution_count": 4,
   "id": "344c0a03",
   "metadata": {},
   "outputs": [
    {
     "name": "stdout",
     "output_type": "stream",
     "text": [
      "... => a\n",
      "..a => l\n",
      ".al => a\n",
      "ala => y\n",
      "lay => j\n"
     ]
    }
   ],
   "source": [
    "# build_dset basically builds a rolling window on the dataset based on the context length.\n",
    "def build_dset(dset, ctxt_len):\n",
    "    X, Y = [], []\n",
    "    for name in dset:\n",
    "        context  = [0] * ctxt_len\n",
    "        for ch in name:\n",
    "            ix = atoi[ch]\n",
    "            X.append(context)\n",
    "            Y.append(ix)\n",
    "            # print(''.join(itoa[i] for i in context), '--->', itoa[ix])\n",
    "            context = context[1:] + [ix] # crop and append\n",
    "    \n",
    "    X = torch.tensor(X)\n",
    "    Y = torch.tensor(Y)\n",
    "    return X, Y\n",
    "n1 = int(0.8*len(names))\n",
    "n2 = int(0.9*len(names))\n",
    "\n",
    "X_train, Y_train = build_dset(names[:n1], block_size)\n",
    "X_val, Y_val = build_dset(names[n1:n2], block_size)\n",
    "X_test, Y_test = build_dset(names[n2:], block_size)\n",
    "\n",
    "for c, d in zip(X_train[:5], Y_train[:5]):\n",
    "    print(''.join(itoa[i.item()] for i in c), \"=>\", itoa[d.item()])\n",
    "\n"
   ]
  },
  {
   "cell_type": "markdown",
   "id": "1e341110",
   "metadata": {},
   "source": [
    "- similar to the mlp, but with a few differences:\n",
    "- Reduction of initial loss spikes;\n",
    "\t- by adjusting output layer initialization\n",
    "\t- by adjusting tanh activation function input range (hardcoding it to 0.2 from gradient analysis)\n",
    "\n",
    "- Batch normalization, [Paper](https://arxiv.org/pdf/1502.03167.pdf)"
   ]
  },
  {
   "cell_type": "code",
   "execution_count": 59,
   "id": "bc1f63f0",
   "metadata": {},
   "outputs": [],
   "source": [
    "# train-test split(80, 10, 10)\n",
    "n1 = int(0.8*len(words))\n",
    "n2 = int(0.9*len(words))\n",
    "\n",
    "gain = 5/3 # for tanh\n",
    "fan_in = block_size * n_embd # the number of input units for a weight matrix \n",
    "# parameters\n",
    "C = torch.randn((27, n_embd), generator=g) \n",
    "W1 = torch.randn((block_size * n_embd, n_embd2), generator=g) * ((5/3)/(fan_in**0.5)) # hidden layer\n",
    "# error using kaiming initialization -  WHY?\n",
    "# - when is too small, the tanh function input is concentrated around 0,\n",
    "# - when it is too large, the tanh function output is concentrated around 1\n",
    "\n",
    "b1 = torch.randn(n_embd2, generator=g) * 0.01\n",
    "W2 = torch.randn((n_embd2, 27), generator=g) * 0.01 # output layer\n",
    "b2 = torch.randn(27, generator=g) * 0\n",
    "\n",
    "#buffers\n",
    "bn_gain = torch.ones((1, n_embd2))\n",
    "bn_bias = torch.zeros((1, n_embd2))\n",
    "\n",
    "params = [C, W1, b1, W2, b2, bn_gain, bn_bias]\n",
    "\n",
    "for p in params:\n",
    "    p.requires_grad = True # autograd should record operations"
   ]
  },
  {
   "cell_type": "code",
   "execution_count": 60,
   "id": "f7f68054",
   "metadata": {},
   "outputs": [
    {
     "name": "stdout",
     "output_type": "stream",
     "text": [
      "( 0.0 %) loss = 3.313098192214966\n",
      "( 10.0 %) loss = 1.9307942390441895\n",
      "( 20.0 %) loss = 2.237173080444336\n",
      "( 30.0 %) loss = 2.2333030700683594\n",
      "( 40.0 %) loss = 2.1420576572418213\n",
      "( 50.0 %) loss = 1.9617948532104492\n",
      "( 60.0 %) loss = 2.131014108657837\n",
      "( 70.0 %) loss = 2.067582607269287\n",
      "( 80.0 %) loss = 2.16463565826416\n",
      "( 90.0 %) loss = 2.1722071170806885\n"
     ]
    }
   ],
   "source": [
    "# BACKPROPAGATION\n",
    "\n",
    "max_steps = 100000\n",
    "losses = []\n",
    "\n",
    "for i in range(max_steps):\n",
    "    # minibatch construct - for efficiency\n",
    "    ix = torch.randint(0, X_train.shape[0], (batch_size,))\n",
    "\n",
    "    # forward pass\n",
    "    emb = C[X_train[ix]].view(-1, block_size * n_embd)\n",
    "    v = emb @ W1 + b1\n",
    "\n",
    "    # batch norm\n",
    "    mean = v.mean(dim=0, keepdim=True)\n",
    "    var = v.var(dim=0, keepdim=True)\n",
    "    pre_tanh = (v - mean) / (var + 1e-5).sqrt()\n",
    "    pre_tanh = bn_gain * pre_tanh + bn_bias\n",
    "\n",
    "    h = torch.tanh(pre_tanh) # intermediate layer\n",
    "    logits = h @ W2 + b2\n",
    "        \n",
    "    loss = F.cross_entropy(logits, Y_train[ix])\n",
    "    if i % 10000 == 0:\n",
    "        print(\"(\", (i * 100) / max_steps , \"%) loss =\", loss.item())\n",
    "    \n",
    "    # backward pass\n",
    "    for p in params:\n",
    "        p.grad = None\n",
    "    loss.backward()\n",
    "\n",
    "    # update\n",
    "    lri = lr if max_steps > 10000 else decay_rate\n",
    "    for p in params:\n",
    "        p.data += - lri * p.grad \n",
    "    losses.append(loss.item())"
   ]
  },
  {
   "cell_type": "code",
   "execution_count": 61,
   "id": "5792960a",
   "metadata": {},
   "outputs": [
    {
     "data": {
      "image/png": "[encoded data removed]",
      "text/plain": [
       "<Figure size 640x480 with 1 Axes>"
      ]
     },
     "metadata": {},
     "output_type": "display_data"
    }
   ],
   "source": [
    "with torch.no_grad():\n",
    "\tplt.title(\"Loss vs. Iterations\")\n",
    "\tplt.plot(losses)"
   ]
  },
  {
   "cell_type": "code",
   "execution_count": 65,
   "id": "dea556b3",
   "metadata": {},
   "outputs": [
    {
     "data": {
      "image/png": "[encoded data removed]",
      "text/plain": [
       "<Figure size 1000x1000 with 2 Axes>"
      ]
     },
     "metadata": {},
     "output_type": "display_data"
    }
   ],
   "source": [
    "with torch.no_grad():\n",
    "\t# validation\n",
    "\temb = C[X_train].view(-1, 30)\n",
    "\tv = emb @ W1 + b1\n",
    "\tpre_tanh = (v - v.mean(dim=0, keepdim=True)) / (v.var(dim=0, keepdim=True) + 1e-5).sqrt()\n",
    "\th = torch.tanh(pre_tanh) # intermediate layer\n",
    "\tlogits = h @ W2 + b2\n",
    "\tpreds = torch.argmax(logits, dim=1)\n",
    "\t\n",
    "\tplt.figure(figsize=(10, 10))\n",
    "\tplt.subplot(2, 1, 1)\n",
    "\tplt.title(\"tanh output layer range\")\n",
    "\tplt.hist(h.view(-1).numpy(), bins=100)\n",
    "\n",
    "\tplt.subplot(2, 1, 2)\n",
    "\tplt.title(\"tanh input layer range\")\n",
    "\tplt.hist(v.view(-1).numpy(), bins=100)\n",
    "\n",
    "\tplt.tight_layout()\n",
    "\tplt.show()\n",
    "\t\n",
    "\t"
   ]
  },
  {
   "cell_type": "code",
   "execution_count": 66,
   "id": "eb5eba53",
   "metadata": {},
   "outputs": [
    {
     "name": "stdout",
     "output_type": "stream",
     "text": [
      "training loss:  tensor(2.8772)\n",
      "val loss:  tensor(2.9083)\n",
      "test loss:  tensor(2.9201)\n"
     ]
    }
   ],
   "source": [
    "@torch.no_grad()\n",
    "def loss(x, y):\n",
    "    emb = C[x].view(-1, 30)\n",
    "    v = emb @ W1 + b1\n",
    "    h = torch.tanh(v) # intermediate layer\n",
    "    logits = h @ W2 + b2\n",
    "    loss = F.cross_entropy(logits, y)\n",
    "    return loss\n",
    "\n",
    "print(\"training loss: \", loss(X_train, Y_train))\n",
    "print(\"val loss: \", loss(X_val, Y_val))\n",
    "print(\"test loss: \", loss(X_test, Y_test))\n"
   ]
  },
  {
   "cell_type": "markdown",
   "id": "4277e4c3",
   "metadata": {},
   "source": [
    "### Stats\n",
    "|iter|init| train | test | method |\n",
    "|--------|----|-----------| -------|---------|\n",
    "| 1 | 13.543 | 2.834 | 2.4027 | --- |\n",
    "| 2| 3.2868 |2.2233 | 2.2516| tuning output weights and bias - softmax | \n",
    "| 3| 3.3105 | 2.0768 | 2.1459 | tuning log params - tanh layer saturation | \n",
    "|4 | 3.3110 |2.0917 | 2.1517| using kaiming init |\n",
    "|5 | 3.3131 | 2.8772 | 2.9083 | add batch norm layer(calculating after training) |"
   ]
  },
  {
   "cell_type": "code",
   "execution_count": 70,
   "id": "2554dc68",
   "metadata": {},
   "outputs": [],
   "source": [
    "# not sure if this is the right way to do it\n",
    "@torch.no_grad()\n",
    "def nnl(name):\n",
    "    \"to calculate the likelihood of a word in a mlp model\"\n",
    "    x, y = build_dset([name], block_size)\n",
    "    emb = C[x]\n",
    "    h = torch.tanh(emb.view(-1, 30) @ W1 + b1)\n",
    "    logits = h @ W2 + b2\n",
    "    loss = F.cross_entropy(logits, y)\n",
    "    return loss"
   ]
  },
  {
   "cell_type": "code",
   "execution_count": 76,
   "id": "84a84fbb",
   "metadata": {},
   "outputs": [
    {
     "name": "stdout",
     "output_type": "stream",
     "text": [
      "generating...\n",
      "+ valid word:  dalah.\n",
      "+ valid word:  xavel.\n",
      "+ valid word:  lah.\n",
      "+ valid word:  khylah.\n",
      "+ valid word:  calah.\n",
      "+ valid word:  fitzalda.\n",
      "+ valid word:  zalda.\n",
      "+ valid word:  shalan.\n",
      "+ valid word:  azlington.\n",
      "+ valid word:  zakhukwu.\n",
      "duration:  0.3243715763092041\n"
     ]
    }
   ],
   "source": [
    "import time\n",
    "\n",
    "with torch.no_grad():\n",
    "    generated_names = []\n",
    "    print(\"generating...\")\n",
    "    start_time = time.time()\n",
    "    while True:\n",
    "        out = []\n",
    "        probs = None\n",
    "        context  = [0] * block_size\n",
    "        while True:\n",
    "            emb = C[torch.tensor(context)].view(-1, block_size * n_embd)\n",
    "            h = torch.tanh(emb @ W1 + b1)\n",
    "            logits = h @ W2 + b2\n",
    "            probs = F.softmax(logits, dim=1)\n",
    "            # print(probs)\n",
    "            ix = torch.multinomial(probs, num_samples=1, generator=g)\n",
    "            context = context[1:] + [ix]\n",
    "            out.append(ix)\n",
    "            \n",
    "            if ix == 0:\n",
    "                break\n",
    "\n",
    "        word = ''.join(itoa[i.item()] for i in out)\n",
    "        if nnl(word) < 1.5 and len(word) > 3 and word not in generated_names:\n",
    "            print(\"+ valid word: \", word)\n",
    "            generated_names.append(word) \n",
    "        if len(generated_names) == 10:\n",
    "            break\n",
    "    duration = time.time() - start_time\n",
    "    print(\"duration: \", duration)"
   ]
  }
 ],
 "metadata": {
  "kernelspec": {
   "display_name": "Python 3",
   "language": "python",
   "name": "python3"
  },
  "language_info": {
   "codemirror_mode": {
    "name": "ipython",
    "version": 3
   },
   "file_extension": ".py",
   "mimetype": "text/x-python",
   "name": "python",
   "nbconvert_exporter": "python",
   "pygments_lexer": "ipython3",
   "version": "3.10.13"
  },
  "vscode": {
   "interpreter": {
    "hash": "3ad933181bd8a04b432d3370b9dc3b0662ad032c4dfaa4e4f1596c548f763858"
   }
  },
  "widgets": {
   "application/vnd.jupyter.widget-state+json": {
    "state": {},
    "version_major": 2,
    "version_minor": 0
   }
  }
 },
 "nbformat": 4,
 "nbformat_minor": 5
}
