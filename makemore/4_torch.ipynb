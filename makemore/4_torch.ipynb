{
 "cells": [
  {
   "cell_type": "code",
   "execution_count": 3,
   "metadata": {},
   "outputs": [
    {
     "data": {
      "text/plain": [
       "'2.1.1+cu121'"
      ]
     },
     "execution_count": 3,
     "metadata": {},
     "output_type": "execute_result"
    }
   ],
   "source": [
    "import torch\n",
    "import torch.nn.functional as F\n",
    "\n",
    "torch.__version__"
   ]
  },
  {
   "cell_type": "code",
   "execution_count": 14,
   "metadata": {},
   "outputs": [
    {
     "name": "stdout",
     "output_type": "stream",
     "text": [
      "torch.Size([50, 3])\n"
     ]
    }
   ],
   "source": [
    "class Linear:\n",
    "    def __init__(self, in_features, out_features, bias=True, dtype=None):\n",
    "        self.gain = torch.randn(\n",
    "            (in_features, out_features), dtype=dtype)\n",
    "        self.bias = torch.randn(\n",
    "            out_features, dtype=dtype) if bias else None\n",
    "\n",
    "    def __call__(self, input: torch.Tensor):\n",
    "        out = input @ self.gain\n",
    "        if self.bias is not None:\n",
    "            out += self.bias\n",
    "        return out\n",
    "\n",
    "    def parameters(self):\n",
    "        return [self.gain] + ([] if self.bias is None else [self.bias])\n",
    "\n",
    "Linear(5, 3)(torch.randn(50, 5)).shape"
   ]
  },
  {
   "cell_type": "code",
   "execution_count": 16,
   "metadata": {},
   "outputs": [
    {
     "data": {
      "text/plain": [
       "tensor(0.9988)"
      ]
     },
     "execution_count": 16,
     "metadata": {},
     "output_type": "execute_result"
    }
   ],
   "source": [
    "class Tanh:\n",
    "    def __call__(self, x):\n",
    "        self.out = torch.tanh(x)\n",
    "        return self.out\n",
    "\n",
    "    def parameters(self):\n",
    "        return []\n",
    "\n",
    "Tanh()(torch.randn(50, 5)).max()"
   ]
  },
  {
   "cell_type": "code",
   "execution_count": 37,
   "metadata": {},
   "outputs": [
    {
     "data": {
      "text/plain": [
       "(0.0, 0.9999939203262329)"
      ]
     },
     "execution_count": 37,
     "metadata": {},
     "output_type": "execute_result"
    }
   ],
   "source": [
    "\n",
    "class BatchNorm:\n",
    "    \"\"\"\n",
    "    One-Dimensional Batch Normalization\n",
    "    \"\"\"\n",
    "\n",
    "    def __init__(self, dim, eps=1e-5, momentum=0.1):\n",
    "        self.eps = eps\n",
    "        self.momentum = momentum\n",
    "        self.training = True\n",
    "        # parameters (trained with backprop)\n",
    "        self.gamma = torch.ones(dim)\n",
    "        self.beta = torch.zeros(dim)\n",
    "\n",
    "        # buffers (not trained with backprop)\n",
    "        self.running_mean = torch.zeros(dim)\n",
    "        self.running_var = torch.ones(dim)\n",
    "\n",
    "    def parameters(self):\n",
    "        return [self.gamma, self.beta]\n",
    "\n",
    "    def __call__(self, x):\n",
    "        if self.training:\n",
    "            mean = x.mean(dim=0)\n",
    "            var = x.var(dim=0)\n",
    "            x_hat = (x - mean) / (var + self.eps).sqrt()\n",
    "            with torch.no_grad():\n",
    "                self.running_mean = (1 - self.momentum) * \\\n",
    "                    self.running_mean + self.momentum * mean\n",
    "                self.running_var = (1 - self.momentum) * \\\n",
    "                    self.running_var + self.momentum * var\n",
    "        else:\n",
    "            x_hat = (x - self.running_mean) / \\\n",
    "                    (self.running_var + self.eps).sqrt()\n",
    "\n",
    "        return self.gamma * x_hat + self.beta\n",
    "\n",
    "dist = BatchNorm(5)(torch.randn(50, 5))\n",
    "# this is a gaussiana find the mean and variance\n",
    "mean = dist.mean(dim=0).abs().min().item()\n",
    "std = dist.std(dim=0).mean().item()\n",
    "mean, std"
   ]
  },
  {
   "cell_type": "code",
   "execution_count": 149,
   "metadata": {},
   "outputs": [
    {
     "name": "stdout",
     "output_type": "stream",
     "text": [
      "36920 10\n"
     ]
    },
    {
     "data": {
      "text/plain": [
       "(torch.Size([1000, 5]),\n",
       " torch.Size([1000]),\n",
       " torch.Size([10, 50]),\n",
       " tensor([1, 1, 1, 1, 1]))"
      ]
     },
     "execution_count": 149,
     "metadata": {},
     "output_type": "execute_result"
    }
   ],
   "source": [
    "g = torch.Generator().manual_seed(123)\n",
    "max_steps = 5000\n",
    "emb_size = 50\n",
    "hl_size = 100  # hidden layer size\n",
    "ctx_len = 5\n",
    "vocab_size = 10\n",
    "# same optimization as last time\n",
    "batch_size = 32\n",
    "losses = []\n",
    "ud = []\n",
    "lre = torch.linspace(-4, 0, max_steps)\n",
    "lri = 10 ** lre\n",
    "\n",
    "# X = torch.randint(0, vocab_size, (1000, ctx_len), generator=g)\n",
    "# X = torch.rand((1000, ctx_len), generator=g) * vocab_size\n",
    "# X = X.floor().long()\n",
    "# Y = torch.randint(0, vocab_size, (1000,), generator=g)\n",
    "\n",
    "# X = torch.arange(0, 100).unsqueeze(1) + torch.arange(ctx_len)\n",
    "# Y = torch.arange(0, 100)\n",
    "# vocab_size = torch.unique(X).shape[0]\n",
    "\n",
    "X = torch.ones(1000, ctx_len, dtype=torch.long)\n",
    "Y = torch.ones(1000, dtype=torch.long) * 8\n",
    "\n",
    "C = torch.randn((vocab_size, emb_size), dtype=torch.float32, generator=g)\n",
    "\n",
    "layers = [\n",
    "    Linear(emb_size * ctx_len, hl_size,\n",
    "            bias=False), BatchNorm(hl_size), Tanh(),\n",
    "    Linear(hl_size, hl_size, bias=False), BatchNorm(hl_size), Tanh(),\n",
    "    Linear(hl_size, vocab_size, bias=False), BatchNorm(vocab_size),\n",
    "]\n",
    "\n",
    "parameters = [C] + [p for layer in layers for p in layer.parameters()]\n",
    "print(sum(p.nelement() for p in parameters), len(parameters))\n",
    "\n",
    "for p in parameters:\n",
    "    p.requires_grad = True\n",
    "\n",
    "X.shape, Y.shape, C.shape, X[0]"
   ]
  },
  {
   "cell_type": "code",
   "execution_count": 150,
   "metadata": {},
   "outputs": [
    {
     "name": "stdout",
     "output_type": "stream",
     "text": [
      "step 0, loss 2.30\n",
      "step 1000, loss 2.05\n",
      "step 2000, loss 0.92\n",
      "step 3000, loss 0.09\n",
      "step 4000, loss 0.01\n",
      "accuracy 1.00\n"
     ]
    },
    {
     "data": {
      "image/png": "[encoded data removed]",
      "text/plain": [
       "<Figure size 640x480 with 1 Axes>"
      ]
     },
     "metadata": {},
     "output_type": "display_data"
    },
    {
     "data": {
      "image/png": "[encoded data removed]",
      "text/plain": [
       "<Figure size 640x480 with 1 Axes>"
      ]
     },
     "metadata": {},
     "output_type": "display_data"
    }
   ],
   "source": [
    "for i in range(max_steps):\n",
    "    # minibatch\n",
    "    # use all\n",
    "    ix = torch.arange(X.shape[1])\n",
    "    # ix = torch.randint(0, X.shape[0], (batch_size*8,))\n",
    "    #forward\n",
    "    emb = C[X]\n",
    "    x = emb.view(emb.shape[0], -1)\n",
    "\n",
    "    for layer in layers:\n",
    "        x = layer(x)\n",
    "\n",
    "    logits = x\n",
    "    loss = F.cross_entropy(logits, Y)\n",
    "\n",
    "    # backward\n",
    "    for p in parameters:\n",
    "        p.grad = None\n",
    "    loss.backward()\n",
    "\n",
    "    # update\n",
    "    with torch.no_grad():\n",
    "        for p in parameters:\n",
    "            p -= lri[i] * p.grad\n",
    "\n",
    "    losses.append(loss.item())\n",
    "\n",
    "    if i % 1000 == 0:\n",
    "        print(f\"step {i}, loss {loss.item():.2f}\")\n",
    "\n",
    "import matplotlib.pyplot as plt\n",
    "import os\n",
    "\n",
    "os.makedirs(\"./research/\", exist_ok=True)\n",
    "with torch.no_grad():\n",
    "    emb = C[X]\n",
    "    x = emb.view(emb.shape[0], -1)\n",
    "    for layer in layers:\n",
    "        x = layer(x)\n",
    "    logits = x\n",
    "    pred = logits.argmax(dim=1)\n",
    "    acc = (pred == Y).float().mean().item()\n",
    "    print(f\"accuracy {acc:.2f}\")\n",
    "\n",
    "with torch.no_grad():\n",
    "    plt.title(\"loss vs learning rate\")\n",
    "    plt.figtext(0.5, 0,\"Curve of all numbers equal\", ha='center', va='center', fontsize=10)\n",
    "    plt.plot(lri, losses)\n",
    "    plt.savefig(os.path.join(\"research\",\"equal_loss_vs_lr.png\"))\n",
    "    plt.show()\n",
    "\n",
    "    plt.title(\"step loss\")\n",
    "    plt.figtext(0.5, 0,\"Curve of all numbers equal\", ha='center', va='center', fontsize=10)\n",
    "    plt.plot(losses)\n",
    "    plt.savefig(os.path.join(\"research\",\"equal_random_step_loss.png\"))\n",
    "    plt.show()\n",
    "\n",
    "\n"
   ]
  }
 ],
 "metadata": {
  "kernelspec": {
   "display_name": "Python 3",
   "language": "python",
   "name": "python3"
  },
  "language_info": {
   "codemirror_mode": {
    "name": "ipython",
    "version": 3
   },
   "file_extension": ".py",
   "mimetype": "text/x-python",
   "name": "python",
   "nbconvert_exporter": "python",
   "pygments_lexer": "ipython3",
   "version": "3.10.13"
  },
  "vscode": {
   "interpreter": {
    "hash": "3ad933181bd8a04b432d3370b9dc3b0662ad032c4dfaa4e4f1596c548f763858"
   }
  }
 },
 "nbformat": 4,
 "nbformat_minor": 2
}
