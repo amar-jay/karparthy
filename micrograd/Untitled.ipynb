{
 "cells": [
  {
   "cell_type": "code",
   "execution_count": 171,
   "id": "7bed9a9f-167f-4a43-8e88-25ccd33f3cfb",
   "metadata": {},
   "outputs": [
    {
     "data": {
      "text/plain": [
       "[Tensor<data=0.3333333333333333, grad=0.0>,\n",
       " Tensor<data=7.0, grad=0.18898223650461363>,\n",
       " Tensor<data=2.6457513110645907, grad=0.0>,\n",
       " Tensor<data=0.8819171036881969, grad=0>,\n",
       " Tensor<data=3.5276684147527875, grad=0.266211079200754>,\n",
       " Tensor<data=1.878208831507505, grad=1>]"
      ]
     },
     "execution_count": 171,
     "metadata": {},
     "output_type": "execute_result"
    }
   ],
   "source": [
    "from micrograd import Tensor\n",
    "f = (Tensor(4.0 + 3.0))\n",
    "h = f ** 0.5\n",
    "g = h / 3\n",
    "j = h + g\n",
    "k = j ** 0.5\n",
    "k.backward()\n",
    "\n",
    "children = []\n",
    "visited = set()\n",
    "def linearize(node):\n",
    "        if node not in visited:\n",
    "            visited.add(node)\n",
    "            for child in node._prev:\n",
    "                linearize(child)\n",
    "            children.append(node)\n",
    "linearize(k)\n",
    "\n",
    "children"
   ]
  },
  {
   "cell_type": "code",
   "execution_count": 172,
   "id": "ee14262a-7c70-4421-a32f-6dfedf5084d0",
   "metadata": {},
   "outputs": [
    {
     "data": {
      "text/plain": [
       "((tensor(7.), tensor(0.0671)),\n",
       " (tensor(2.6458), tensor(0.3549)),\n",
       " (tensor(0.8819), tensor(0.2662)),\n",
       " (tensor(3.5277), tensor(0.2662)),\n",
       " (tensor(1.8782), tensor(1.)))"
      ]
     },
     "execution_count": 172,
     "metadata": {},
     "output_type": "execute_result"
    }
   ],
   "source": [
    "from torch import tensor\n",
    "\n",
    "f = tensor(4.0 + 3.0)\n",
    "f.requires_grad = True\n",
    "f.retain_grad()\n",
    "\n",
    "h = f ** 0.5\n",
    "h.retain_grad()\n",
    "\n",
    "g = h / 3\n",
    "g.retain_grad()\n",
    "\n",
    "j = h + g\n",
    "j.retain_grad()\n",
    "\n",
    "# k = torch.tanh(j)\n",
    "k = j ** 0.5\n",
    "k.retain_grad()\n",
    "k.backward()\n",
    "\n",
    "(f.data, f.grad), (h.data, h.grad), (g.data,g.grad),  (j.data, j.grad), (k.data, k.grad)"
   ]
  }
 ],
 "metadata": {
  "kernelspec": {
   "display_name": "Python 3 (ipykernel)",
   "language": "python",
   "name": "python3"
  },
  "language_info": {
   "codemirror_mode": {
    "name": "ipython",
    "version": 3
   },
   "file_extension": ".py",
   "mimetype": "text/x-python",
   "name": "python",
   "nbconvert_exporter": "python",
   "pygments_lexer": "ipython3",
   "version": "3.10.12"
  },
  "widgets": {
   "application/vnd.jupyter.widget-state+json": {
    "state": {},
    "version_major": 2,
    "version_minor": 0
   }
  }
 },
 "nbformat": 4,
 "nbformat_minor": 5
}
