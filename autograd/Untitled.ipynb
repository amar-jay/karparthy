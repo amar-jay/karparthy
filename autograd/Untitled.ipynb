{
 "cells": [
  {
   "cell_type": "code",
   "execution_count": 84,
   "id": "24b60a71-7bb5-4af3-acfd-ce50c0ca0254",
   "metadata": {},
   "outputs": [
    {
     "name": "stdout",
     "output_type": "stream",
     "text": [
      "not equal True\n",
      "not equal True\n"
     ]
    }
   ],
   "source": [
    "import numpy as np\n",
    "\n",
    "A = np.ones((3,3))\n",
    "B = np.triu((3,3, 3))\n",
    "\n",
    "C = A + B\n",
    "\n",
    "dC = np.ones_like(C)\n",
    "dA = np.sum(dC, axis=0)\n",
    "dB = dC\n",
    "\n",
    "# dA.shape == A.shape, dB.shape == B.shape,\n",
    "A.shape == C.shape\n",
    "for i, j in zip(A.shape, C.shape):\n",
    "    print(\"not equal\", i == j)"
   ]
  },
  {
   "cell_type": "code",
   "execution_count": 77,
   "id": "521c02b2-174e-4b38-8f20-f82a95216a8d",
   "metadata": {},
   "outputs": [
    {
     "data": {
      "text/plain": [
       "(array([[[  1.,   2.,   3.,   4.,   5.,   6.,   7.,   8.,   9.,  10.],\n",
       "         [ 11.,  12.,  13.,  14.,  15.,  16.,  17.,  18.,  19.,  20.],\n",
       "         [ 21.,  22.,  23.,  24.,  25.,  26.,  27.,  28.,  29.,  30.],\n",
       "         [ 31.,  32.,  33.,  34.,  35.,  36.,  37.,  38.,  39.,  40.],\n",
       "         [ 41.,  42.,  43.,  44.,  45.,  46.,  47.,  48.,  49.,  50.]],\n",
       " \n",
       "        [[ 51.,  52.,  53.,  54.,  55.,  56.,  57.,  58.,  59.,  60.],\n",
       "         [ 61.,  62.,  63.,  64.,  65.,  66.,  67.,  68.,  69.,  70.],\n",
       "         [ 71.,  72.,  73.,  74.,  75.,  76.,  77.,  78.,  79.,  80.],\n",
       "         [ 81.,  82.,  83.,  84.,  85.,  86.,  87.,  88.,  89.,  90.],\n",
       "         [ 91.,  92.,  93.,  94.,  95.,  96.,  97.,  98.,  99., 100.]]]),\n",
       " array([[[ 0.,  1.,  2.,  3.,  4.,  5.,  6.,  7.,  8.,  9.],\n",
       "         [10., 11., 12., 13., 14., 15., 16., 17., 18., 19.],\n",
       "         [20., 21., 22., 23., 24., 25., 26., 27., 28., 29.],\n",
       "         [30., 31., 32., 33., 34., 35., 36., 37., 38., 39.],\n",
       "         [40., 41., 42., 43., 44., 45., 46., 47., 48., 49.]],\n",
       " \n",
       "        [[50., 51., 52., 53., 54., 55., 56., 57., 58., 59.],\n",
       "         [60., 61., 62., 63., 64., 65., 66., 67., 68., 69.],\n",
       "         [70., 71., 72., 73., 74., 75., 76., 77., 78., 79.],\n",
       "         [80., 81., 82., 83., 84., 85., 86., 87., 88., 89.],\n",
       "         [90., 91., 92., 93., 94., 95., 96., 97., 98., 99.]]]))"
      ]
     },
     "execution_count": 77,
     "metadata": {},
     "output_type": "execute_result"
    }
   ],
   "source": [
    "# Create a 1D array\n",
    "arr = np.linspace(0, 100, 101)\n",
    "arr = arr[:-1]\n",
    "reshaped_arr = arr.reshape((2, 5, -1))\n",
    "arr = np.ones(10)\n",
    "# Reshape the array to a 2D array with 2 rows and 3 columns\n",
    "\n",
    "reshaped_arr + arr, reshaped_arr"
   ]
  },
  {
   "cell_type": "code",
   "execution_count": 192,
   "id": "1f4614a9-d641-4a6a-a7bd-b4ae39ea4f00",
   "metadata": {},
   "outputs": [
    {
     "ename": "RuntimeError",
     "evalue": "The size of tensor a (5) must match the size of tensor b (10) at non-singleton dimension 0",
     "output_type": "error",
     "traceback": [
      "\u001b[0;31m---------------------------------------------------------------------------\u001b[0m",
      "\u001b[0;31mRuntimeError\u001b[0m                              Traceback (most recent call last)",
      "Cell \u001b[0;32mIn[192], line 12\u001b[0m\n\u001b[1;32m      9\u001b[0m A\u001b[38;5;241m.\u001b[39mretain_grad()\n\u001b[1;32m     10\u001b[0m B\u001b[38;5;241m.\u001b[39mretain_grad()\n\u001b[0;32m---> 12\u001b[0m C \u001b[38;5;241m=\u001b[39m \u001b[43mA\u001b[49m\u001b[43m \u001b[49m\u001b[38;5;241;43m@\u001b[39;49m\u001b[43m \u001b[49m\u001b[43mB\u001b[49m\n\u001b[1;32m     13\u001b[0m grad_output \u001b[38;5;241m=\u001b[39m torch\u001b[38;5;241m.\u001b[39mones_like(C)\n\u001b[1;32m     14\u001b[0m C\u001b[38;5;241m.\u001b[39mbackward(grad_output, retain_graph\u001b[38;5;241m=\u001b[39m\u001b[38;5;28;01mTrue\u001b[39;00m)\n",
      "\u001b[0;31mRuntimeError\u001b[0m: The size of tensor a (5) must match the size of tensor b (10) at non-singleton dimension 0"
     ]
    }
   ],
   "source": [
    "import torch\n",
    "\n",
    "A = torch.ones((5, 4, 10), requires_grad=True)\n",
    "\n",
    "B = torch.ones((10,5, 5))\n",
    "B = torch.triu(B)\n",
    "B.requires_grad=True\n",
    "\n",
    "A.retain_grad()\n",
    "B.retain_grad()\n",
    "\n",
    "C = A @ B\n",
    "grad_output = torch.ones_like(C)\n",
    "C.backward(grad_output, retain_graph=True)\n",
    "\n",
    "C.shape\n",
    "dA = grad_output @ B.T\n",
    "dA == A.grad\n",
    "C.shape, A.shape, B.shape "
   ]
  }
 ],
 "metadata": {
  "kernelspec": {
   "display_name": "Python 3 (ipykernel)",
   "language": "python",
   "name": "python3"
  },
  "language_info": {
   "codemirror_mode": {
    "name": "ipython",
    "version": 3
   },
   "file_extension": ".py",
   "mimetype": "text/x-python",
   "name": "python",
   "nbconvert_exporter": "python",
   "pygments_lexer": "ipython3",
   "version": "3.10.12"
  },
  "widgets": {
   "application/vnd.jupyter.widget-state+json": {
    "state": {},
    "version_major": 2,
    "version_minor": 0
   }
  }
 },
 "nbformat": 4,
 "nbformat_minor": 5
}
